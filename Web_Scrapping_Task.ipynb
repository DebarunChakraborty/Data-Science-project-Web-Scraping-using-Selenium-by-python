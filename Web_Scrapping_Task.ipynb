{
 "cells": [
  {
   "cell_type": "markdown",
   "id": "9e725b84",
   "metadata": {},
   "source": [
    "# Assigment on Web Scrapping Task"
   ]
  },
  {
   "cell_type": "code",
   "execution_count": 1,
   "id": "ee6d9254",
   "metadata": {},
   "outputs": [],
   "source": [
    "#Import the required module\n",
    "from selenium import webdriver\n",
    "from selenium.webdriver.common.keys import Keys\n",
    "import pandas as pd\n",
    "from selenium.webdriver.common.by import By"
   ]
  },
  {
   "cell_type": "code",
   "execution_count": 2,
   "id": "2c0e0e2b",
   "metadata": {},
   "outputs": [
    {
     "name": "stdout",
     "output_type": "stream",
     "text": [
      "Enter the text to be searched...python\n",
      "https://www.google.com/search?q=python\n"
     ]
    }
   ],
   "source": [
    "#Initiate the  URL + Input search text\n",
    "text = input(\"Enter the text to be searched...\")\n",
    "url = 'https://www.google.com/search?q=' + text\n",
    "print(url)"
   ]
  },
  {
   "cell_type": "code",
   "execution_count": 4,
   "id": "a5b32ca8",
   "metadata": {
    "scrolled": true
   },
   "outputs": [
    {
     "name": "stderr",
     "output_type": "stream",
     "text": [
      "C:\\Users\\Debarun Chakraborty\\AppData\\Local\\Temp\\ipykernel_42212\\856744977.py:3: DeprecationWarning: executable_path has been deprecated, please pass in a Service object\n",
      "  driver = webdriver.Chrome(executable_path=r\"C:\\Users\\Debarun Chakraborty\\Downloads\\Precily_AI_Web_Scrapping_Task\\chromedriver.exe\")\n"
     ]
    }
   ],
   "source": [
    "#This code automate the chrome browser\n",
    "#Here I have used Chromedriver version 106, since my chorme version is 106.0.5249.119.\n",
    "driver = webdriver.Chrome(executable_path=r\"C:\\Users\\Debarun Chakraborty\\Downloads\\Precily_AI_Web_Scrapping_Task\\chromedriver.exe\")\n",
    "driver.maximize_window()\n",
    "driver.get(url)"
   ]
  },
  {
   "cell_type": "code",
   "execution_count": 5,
   "id": "f930c857",
   "metadata": {
    "scrolled": true
   },
   "outputs": [
    {
     "data": {
      "text/html": [
       "<div>\n",
       "<style scoped>\n",
       "    .dataframe tbody tr th:only-of-type {\n",
       "        vertical-align: middle;\n",
       "    }\n",
       "\n",
       "    .dataframe tbody tr th {\n",
       "        vertical-align: top;\n",
       "    }\n",
       "\n",
       "    .dataframe thead th {\n",
       "        text-align: right;\n",
       "    }\n",
       "</style>\n",
       "<table border=\"1\" class=\"dataframe\">\n",
       "  <thead>\n",
       "    <tr style=\"text-align: right;\">\n",
       "      <th></th>\n",
       "      <th>Page_Number</th>\n",
       "      <th>Search_Result_Title</th>\n",
       "      <th>Search_Result_URL</th>\n",
       "      <th>Search_Result_Description</th>\n",
       "    </tr>\n",
       "  </thead>\n",
       "  <tbody>\n",
       "    <tr>\n",
       "      <th>0</th>\n",
       "      <td>1</td>\n",
       "      <td>Welcome to Python.org</td>\n",
       "      <td>https://www.python.org/</td>\n",
       "      <td>The official home of the Python Programming La...</td>\n",
       "    </tr>\n",
       "    <tr>\n",
       "      <th>1</th>\n",
       "      <td>1</td>\n",
       "      <td>Python Tutorial - W3Schools</td>\n",
       "      <td>https://www.w3schools.com/python/</td>\n",
       "      <td>Python is a popular programming language. Pyth...</td>\n",
       "    </tr>\n",
       "    <tr>\n",
       "      <th>2</th>\n",
       "      <td>1</td>\n",
       "      <td>Python (programming language) - Wikipedia</td>\n",
       "      <td>https://en.wikipedia.org/wiki/Python_(programm...</td>\n",
       "      <td>Python is a high-level, general-purpose progra...</td>\n",
       "    </tr>\n",
       "    <tr>\n",
       "      <th>3</th>\n",
       "      <td>1</td>\n",
       "      <td>Online Python Compiler (Interpreter) - Programiz</td>\n",
       "      <td>https://www.programiz.com/python-programming/o...</td>\n",
       "      <td>Write and run Python code using our online com...</td>\n",
       "    </tr>\n",
       "    <tr>\n",
       "      <th>4</th>\n",
       "      <td>1</td>\n",
       "      <td>Python Courses &amp; Tutorials - Codecademy</td>\n",
       "      <td>https://www.codecademy.com/catalog/language/py...</td>\n",
       "      <td>Python is a general-purpose, versatile, and po...</td>\n",
       "    </tr>\n",
       "    <tr>\n",
       "      <th>...</th>\n",
       "      <td>...</td>\n",
       "      <td>...</td>\n",
       "      <td>...</td>\n",
       "      <td>...</td>\n",
       "    </tr>\n",
       "    <tr>\n",
       "      <th>65</th>\n",
       "      <td>10</td>\n",
       "      <td>Python (programming language) - Wikipedia</td>\n",
       "      <td>https://en.wikipedia.org/wiki/Python_(programm...</td>\n",
       "      <td>Python is a high-level, general-purpose progra...</td>\n",
       "    </tr>\n",
       "    <tr>\n",
       "      <th>66</th>\n",
       "      <td>10</td>\n",
       "      <td>Online Python Compiler (Interpreter) - Programiz</td>\n",
       "      <td>https://www.programiz.com/python-programming/o...</td>\n",
       "      <td>Write and run Python code using our online com...</td>\n",
       "    </tr>\n",
       "    <tr>\n",
       "      <th>67</th>\n",
       "      <td>10</td>\n",
       "      <td>Python Courses &amp; Tutorials - Codecademy</td>\n",
       "      <td>https://www.codecademy.com/catalog/language/py...</td>\n",
       "      <td>Python is a general-purpose, versatile, and po...</td>\n",
       "    </tr>\n",
       "    <tr>\n",
       "      <th>68</th>\n",
       "      <td>10</td>\n",
       "      <td>Python Tutorial - Tutorialspoint</td>\n",
       "      <td>https://www.tutorialspoint.com/python/index.htm</td>\n",
       "      <td>Python is a very popular general-purpose inter...</td>\n",
       "    </tr>\n",
       "    <tr>\n",
       "      <th>69</th>\n",
       "      <td>10</td>\n",
       "      <td>Learn Python - Free Interactive Python Tutorial</td>\n",
       "      <td>https://www.learnpython.org/</td>\n",
       "      <td>learnpython.org is a free interactive Python t...</td>\n",
       "    </tr>\n",
       "  </tbody>\n",
       "</table>\n",
       "<p>70 rows × 4 columns</p>\n",
       "</div>"
      ],
      "text/plain": [
       "    Page_Number                               Search_Result_Title  \\\n",
       "0             1                             Welcome to Python.org   \n",
       "1             1                       Python Tutorial - W3Schools   \n",
       "2             1         Python (programming language) - Wikipedia   \n",
       "3             1  Online Python Compiler (Interpreter) - Programiz   \n",
       "4             1           Python Courses & Tutorials - Codecademy   \n",
       "..          ...                                               ...   \n",
       "65           10         Python (programming language) - Wikipedia   \n",
       "66           10  Online Python Compiler (Interpreter) - Programiz   \n",
       "67           10           Python Courses & Tutorials - Codecademy   \n",
       "68           10                  Python Tutorial - Tutorialspoint   \n",
       "69           10   Learn Python - Free Interactive Python Tutorial   \n",
       "\n",
       "                                    Search_Result_URL  \\\n",
       "0                             https://www.python.org/   \n",
       "1                   https://www.w3schools.com/python/   \n",
       "2   https://en.wikipedia.org/wiki/Python_(programm...   \n",
       "3   https://www.programiz.com/python-programming/o...   \n",
       "4   https://www.codecademy.com/catalog/language/py...   \n",
       "..                                                ...   \n",
       "65  https://en.wikipedia.org/wiki/Python_(programm...   \n",
       "66  https://www.programiz.com/python-programming/o...   \n",
       "67  https://www.codecademy.com/catalog/language/py...   \n",
       "68    https://www.tutorialspoint.com/python/index.htm   \n",
       "69                       https://www.learnpython.org/   \n",
       "\n",
       "                            Search_Result_Description  \n",
       "0   The official home of the Python Programming La...  \n",
       "1   Python is a popular programming language. Pyth...  \n",
       "2   Python is a high-level, general-purpose progra...  \n",
       "3   Write and run Python code using our online com...  \n",
       "4   Python is a general-purpose, versatile, and po...  \n",
       "..                                                ...  \n",
       "65  Python is a high-level, general-purpose progra...  \n",
       "66  Write and run Python code using our online com...  \n",
       "67  Python is a general-purpose, versatile, and po...  \n",
       "68  Python is a very popular general-purpose inter...  \n",
       "69  learnpython.org is a free interactive Python t...  \n",
       "\n",
       "[70 rows x 4 columns]"
      ]
     },
     "execution_count": 5,
     "metadata": {},
     "output_type": "execute_result"
    }
   ],
   "source": [
    "#create dataframe of 4 column\n",
    "titles = []\n",
    "hrefs = []\n",
    "pgno = []\n",
    "desc = []\n",
    "#initiating a for loop for extracting information from first 10 pages.\n",
    "for i in range(1,11):\n",
    "    if(i!=1):\n",
    "        try:\n",
    "            driver.find_element_by_xpath(\"//*[contains(local-name(), 'span') and contains(text(), 'Next')]\").click()\n",
    "        except:\n",
    "            pass\n",
    "    \n",
    "    results = driver.find_elements(By.CLASS_NAME,\"tF2Cxc\") #tF2Cxc= class_name extracted from the source code of the web browser\n",
    "    \n",
    "    for result in results:\n",
    "        link = result.find_element(By.TAG_NAME,\"a\")\n",
    "        title = result.find_element(By.TAG_NAME,\"h3\")\n",
    "        \n",
    "        try:\n",
    "            des = result.find_element(By.CLASS_NAME,\"VwiC3b.yXK7lf.MUxGbd.yDYNvb.lyLwlc.lEBKkf\").text\n",
    "                                                    \n",
    "            \n",
    "        except:\n",
    "            des = \"\"\n",
    "\n",
    "            \n",
    "        href = link.get_attribute(\"href\")\n",
    "        if(title.text != \"\"):\n",
    "            titles.append(title.text)\n",
    "            hrefs.append(href)\n",
    "            desc.append(des)\n",
    "            pgno.append(i)\n",
    "\n",
    "import pandas as pd\n",
    "df = pd.DataFrame()\n",
    "df['Page_Number'] = pgno\n",
    "df['Search_Result_Title'] = titles\n",
    "df['Search_Result_URL'] = hrefs\n",
    "df['Search_Result_Description'] = desc\n",
    "df\n"
   ]
  },
  {
   "cell_type": "code",
   "execution_count": 18,
   "id": "f2acccc2",
   "metadata": {},
   "outputs": [],
   "source": [
    "#I have generated two .csv file maned python_output.csv (Conatin the details of python serach results) \n",
    "#and javascript_output.csv(Conatain the details of javascript serach results)\n",
    "df.to_csv('javascript_output.csv')"
   ]
  },
  {
   "cell_type": "code",
   "execution_count": null,
   "id": "a485a328",
   "metadata": {},
   "outputs": [],
   "source": []
  }
 ],
 "metadata": {
  "kernelspec": {
   "display_name": "Python 3 (ipykernel)",
   "language": "python",
   "name": "python3"
  },
  "language_info": {
   "codemirror_mode": {
    "name": "ipython",
    "version": 3
   },
   "file_extension": ".py",
   "mimetype": "text/x-python",
   "name": "python",
   "nbconvert_exporter": "python",
   "pygments_lexer": "ipython3",
   "version": "3.9.12"
  }
 },
 "nbformat": 4,
 "nbformat_minor": 5
}
